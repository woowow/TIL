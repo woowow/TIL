{
 "cells": [
  {
   "cell_type": "code",
   "execution_count": 2,
   "id": "ff122c69",
   "metadata": {},
   "outputs": [],
   "source": [
    "import numpy as np\n",
    "import pandas as pd\n",
    "from scipy.stats import norm"
   ]
  },
  {
   "cell_type": "code",
   "execution_count": 3,
   "id": "02b0a918",
   "metadata": {},
   "outputs": [],
   "source": [
    "# 1. 정규분포 데이터 생성\n",
    "# - 평균(mu): 50\n",
    "# - 표준편차(sigma): 10\n",
    "# - 데이터 개수(size): 1000개\n",
    "mu, sigma, size = 50, 10, 1000\n",
    "data = np.random.normal(mu, sigma, size)  # 빈칸을 채워 정규분포 데이터 생성"
   ]
  },
  {
   "cell_type": "code",
   "execution_count": 4,
   "id": "a9ebfee1",
   "metadata": {},
   "outputs": [
    {
     "data": {
      "text/html": [
       "<div>\n",
       "<style scoped>\n",
       "    .dataframe tbody tr th:only-of-type {\n",
       "        vertical-align: middle;\n",
       "    }\n",
       "\n",
       "    .dataframe tbody tr th {\n",
       "        vertical-align: top;\n",
       "    }\n",
       "\n",
       "    .dataframe thead th {\n",
       "        text-align: right;\n",
       "    }\n",
       "</style>\n",
       "<table border=\"1\" class=\"dataframe\">\n",
       "  <thead>\n",
       "    <tr style=\"text-align: right;\">\n",
       "      <th></th>\n",
       "      <th>value</th>\n",
       "    </tr>\n",
       "  </thead>\n",
       "  <tbody>\n",
       "    <tr>\n",
       "      <th>0</th>\n",
       "      <td>50.144276</td>\n",
       "    </tr>\n",
       "    <tr>\n",
       "      <th>1</th>\n",
       "      <td>39.531921</td>\n",
       "    </tr>\n",
       "    <tr>\n",
       "      <th>2</th>\n",
       "      <td>40.111180</td>\n",
       "    </tr>\n",
       "    <tr>\n",
       "      <th>3</th>\n",
       "      <td>49.924741</td>\n",
       "    </tr>\n",
       "    <tr>\n",
       "      <th>4</th>\n",
       "      <td>52.595514</td>\n",
       "    </tr>\n",
       "    <tr>\n",
       "      <th>...</th>\n",
       "      <td>...</td>\n",
       "    </tr>\n",
       "    <tr>\n",
       "      <th>995</th>\n",
       "      <td>44.261079</td>\n",
       "    </tr>\n",
       "    <tr>\n",
       "      <th>996</th>\n",
       "      <td>56.845368</td>\n",
       "    </tr>\n",
       "    <tr>\n",
       "      <th>997</th>\n",
       "      <td>51.648500</td>\n",
       "    </tr>\n",
       "    <tr>\n",
       "      <th>998</th>\n",
       "      <td>45.689976</td>\n",
       "    </tr>\n",
       "    <tr>\n",
       "      <th>999</th>\n",
       "      <td>44.274183</td>\n",
       "    </tr>\n",
       "  </tbody>\n",
       "</table>\n",
       "<p>1000 rows × 1 columns</p>\n",
       "</div>"
      ],
      "text/plain": [
       "         value\n",
       "0    50.144276\n",
       "1    39.531921\n",
       "2    40.111180\n",
       "3    49.924741\n",
       "4    52.595514\n",
       "..         ...\n",
       "995  44.261079\n",
       "996  56.845368\n",
       "997  51.648500\n",
       "998  45.689976\n",
       "999  44.274183\n",
       "\n",
       "[1000 rows x 1 columns]"
      ]
     },
     "execution_count": 4,
     "metadata": {},
     "output_type": "execute_result"
    }
   ],
   "source": [
    "# 2. 데이터를 DataFrame으로 변환\n",
    "# - pandas의 DataFrame()을 사용하여 데이터를 저장\n",
    "df = pd.DataFrame({\"value\": data}) \n",
    "df"
   ]
  },
  {
   "cell_type": "code",
   "execution_count": 5,
   "id": "ce4f1c6c",
   "metadata": {},
   "outputs": [],
   "source": [
    "# 3. 전체 데이터의 기본 통계량 확인\n",
    "# - describe() 함수를 사용하여 평균, 표준편차, 최소값, 최대값 등을 확인\n",
    "summary_stats = df[\"value\"].describe() "
   ]
  },
  {
   "cell_type": "code",
   "execution_count": 6,
   "id": "b80e7237",
   "metadata": {},
   "outputs": [],
   "source": [
    "# 4. 정규분포의 이론적 기대값과 비교\n",
    "# - 정규분포는 평균(mu)과 표준편차(sigma)를 기준으로 데이터가 분포함\n",
    "# - 68-95-99.7 법칙을 통해 실제 데이터가 정규분포와 얼마나 유사한지 확인\n",
    "\n",
    "# 평균과 표준편차 계산\n",
    "mean_value = df[\"value\"].mean() \n",
    "std_value = df[\"value\"].std() \n",
    "\n",
    "# 68-95-99.7 법칙 적용\n",
    "# - 정규분포에서는 평균을 기준으로 데이터가 특정 범위 내에 포함되는 비율이 정해져 있음\n",
    "# - 평균 ±1 표준편차 내에 약 68%의 데이터가 존재해야 함\n",
    "# - 평균 ±2 표준편차 내에 약 95%의 데이터가 존재해야 함\n",
    "# - 평균 ±3 표준편차 내에 약 99.7%의 데이터가 존재해야 함\n",
    "\n",
    "within_1_sigma = np.sum((df[\"value\"] >= mean_value - std_value) & (df[\"value\"] <= mean_value + std_value)) / size * 100  # ±1 표준편차\n",
    "within_2_sigma = np.sum((df[\"value\"] >= mean_value - 2*std_value) & (df[\"value\"] <= mean_value + 2*std_value)) / size * 100  # ±2 표준편차\n",
    "within_3_sigma = np.sum((df[\"value\"] >= mean_value - 3*std_value) & (df[\"value\"] <= mean_value + 3*std_value)) / size * 100  # ±3 표준편차"
   ]
  },
  {
   "cell_type": "code",
   "execution_count": 7,
   "id": "b031c22f",
   "metadata": {},
   "outputs": [],
   "source": [
    "# 5. 정규분포 검정 수행\n",
    "# - 평균과 표준편차가 정규분포의 이론적인 값과 얼마나 유사한지 확인\n",
    "# - 특정 값(예: 평균)에서의 확률밀도함수(PDF) 값을 계산하여 정규성을 검토\n",
    "\n",
    "sample_value = mu  # 평균 값에서의 확률밀도 계산\n",
    "pdf_value = norm.pdf(sample_value, loc=mean_value, scale=std_value)"
   ]
  },
  {
   "cell_type": "code",
   "execution_count": 8,
   "id": "f2f8a0f0",
   "metadata": {},
   "outputs": [
    {
     "name": "stdout",
     "output_type": "stream",
     "text": [
      "전체 데이터의 기본 통계량:\n",
      "count    1000.000000\n",
      "mean       50.122979\n",
      "std        10.072308\n",
      "min        12.930839\n",
      "25%        43.535256\n",
      "50%        49.806081\n",
      "75%        56.657052\n",
      "max        80.115981\n",
      "Name: value, dtype: float64\n",
      "\n",
      "68-95-99.7 법칙 적용 결과:\n",
      "68% 범위 내 데이터 비율: 69.30%\n",
      "95% 범위 내 데이터 비율: 95.10%\n",
      "99.7% 범위 내 데이터 비율: 99.70%\n",
      "\n",
      "정규분포 검정 결과:\n",
      "샘플 평균: 50.12, 샘플 표준편차: 10.07\n",
      "이론적 정규분포의 평균: 50, 표준편차: 10\n",
      "평균 값(50)에서의 이론적 확률밀도함수(PDF) 값: 0.039605\n"
     ]
    }
   ],
   "source": [
    "# 6. 결과 출력\n",
    "print(\"전체 데이터의 기본 통계량:\")\n",
    "print(summary_stats)\n",
    "\n",
    "print(\"\\n68-95-99.7 법칙 적용 결과:\")\n",
    "print(f\"68% 범위 내 데이터 비율: {within_1_sigma:.2f}%\")\n",
    "print(f\"95% 범위 내 데이터 비율: {within_2_sigma:.2f}%\")\n",
    "print(f\"99.7% 범위 내 데이터 비율: {within_3_sigma:.2f}%\")\n",
    "\n",
    "print(\"\\n정규분포 검정 결과:\")\n",
    "print(f\"샘플 평균: {mean_value:.2f}, 샘플 표준편차: {std_value:.2f}\")\n",
    "print(f\"이론적 정규분포의 평균: {mu}, 표준편차: {sigma}\")\n",
    "print(f\"평균 값({sample_value})에서의 이론적 확률밀도함수(PDF) 값: {pdf_value:.6f}\")\n",
    "\n",
    "# 7. 결론 해석\n",
    "# - 생성된 데이터가 평균 50, 표준편차 10을 따르는 정규분포에 가깝다는 것을 확인\n",
    "# - 68-95-99.7 법칙을 적용한 결과, 실제 데이터가 이론적 정규분포와 유사한 분포를 보임\n",
    "# - 샘플 데이터의 평균과 표준편차가 정규분포의 이론적 값과 거의 동일함\n",
    "# - 추가적인 정규성 검정(예: QQ-Plot, 샤피로-윌크 검정 등)을 수행하면 보다 정확한 분석이 가능함\n"
   ]
  },
  {
   "cell_type": "code",
   "execution_count": null,
   "id": "4ec755cb",
   "metadata": {},
   "outputs": [],
   "source": []
  },
  {
   "cell_type": "code",
   "execution_count": null,
   "id": "ccd70a04",
   "metadata": {},
   "outputs": [],
   "source": []
  },
  {
   "cell_type": "code",
   "execution_count": null,
   "id": "6c67986d",
   "metadata": {},
   "outputs": [],
   "source": []
  }
 ],
 "metadata": {
  "kernelspec": {
   "display_name": "Python 3",
   "language": "python",
   "name": "python3"
  },
  "language_info": {
   "codemirror_mode": {
    "name": "ipython",
    "version": 3
   },
   "file_extension": ".py",
   "mimetype": "text/x-python",
   "name": "python",
   "nbconvert_exporter": "python",
   "pygments_lexer": "ipython3",
   "version": "3.11.9"
  }
 },
 "nbformat": 4,
 "nbformat_minor": 5
}
