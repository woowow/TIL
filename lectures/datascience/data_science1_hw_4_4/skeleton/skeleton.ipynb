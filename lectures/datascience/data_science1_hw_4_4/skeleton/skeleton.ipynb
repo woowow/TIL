{
 "cells": [
  {
   "cell_type": "code",
   "execution_count": 10,
   "id": "d1915a45",
   "metadata": {},
   "outputs": [],
   "source": [
    "import pandas as pd\n",
    "import matplotlib.pyplot as plt\n",
    "plt.rcParams['font.family'] = 'Malgun Gothic'"
   ]
  },
  {
   "cell_type": "code",
   "execution_count": 11,
   "id": "5084281c",
   "metadata": {},
   "outputs": [],
   "source": [
    "# 1. 데이터 로드 및 기본 정보 확인\n",
    "# 주어진 주식 데이터 파일을 불러옴\n",
    "file_path = \"../data/stock_data.csv\"  # 실제 데이터 파일 경로\n",
    "df = pd.read_csv(file_path)  # 데이터 파일을 불러오는 코드 작성\n"
   ]
  },
  {
   "cell_type": "code",
   "execution_count": 12,
   "id": "8eecc44d",
   "metadata": {},
   "outputs": [
    {
     "name": "stdout",
     "output_type": "stream",
     "text": [
      "데이터 미리보기\n"
     ]
    },
    {
     "data": {
      "text/html": [
       "<div>\n",
       "<style scoped>\n",
       "    .dataframe tbody tr th:only-of-type {\n",
       "        vertical-align: middle;\n",
       "    }\n",
       "\n",
       "    .dataframe tbody tr th {\n",
       "        vertical-align: top;\n",
       "    }\n",
       "\n",
       "    .dataframe thead th {\n",
       "        text-align: right;\n",
       "    }\n",
       "</style>\n",
       "<table border=\"1\" class=\"dataframe\">\n",
       "  <thead>\n",
       "    <tr style=\"text-align: right;\">\n",
       "      <th></th>\n",
       "      <th>Date</th>\n",
       "      <th>Close</th>\n",
       "    </tr>\n",
       "  </thead>\n",
       "  <tbody>\n",
       "    <tr>\n",
       "      <th>0</th>\n",
       "      <td>2023-01-02</td>\n",
       "      <td>95.50</td>\n",
       "    </tr>\n",
       "    <tr>\n",
       "      <th>1</th>\n",
       "      <td>2023-01-03</td>\n",
       "      <td>95.36</td>\n",
       "    </tr>\n",
       "    <tr>\n",
       "      <th>2</th>\n",
       "      <td>2023-01-04</td>\n",
       "      <td>96.01</td>\n",
       "    </tr>\n",
       "    <tr>\n",
       "      <th>3</th>\n",
       "      <td>2023-01-05</td>\n",
       "      <td>97.53</td>\n",
       "    </tr>\n",
       "    <tr>\n",
       "      <th>4</th>\n",
       "      <td>2023-01-06</td>\n",
       "      <td>97.30</td>\n",
       "    </tr>\n",
       "  </tbody>\n",
       "</table>\n",
       "</div>"
      ],
      "text/plain": [
       "         Date  Close\n",
       "0  2023-01-02  95.50\n",
       "1  2023-01-03  95.36\n",
       "2  2023-01-04  96.01\n",
       "3  2023-01-05  97.53\n",
       "4  2023-01-06  97.30"
      ]
     },
     "execution_count": 12,
     "metadata": {},
     "output_type": "execute_result"
    }
   ],
   "source": [
    "# 데이터의 첫 5행 출력 (EDA의 첫 단계)\n",
    "print(\"데이터 미리보기\")\n",
    "df.head(5)"
   ]
  },
  {
   "cell_type": "code",
   "execution_count": 13,
   "id": "6db06ead",
   "metadata": {},
   "outputs": [
    {
     "name": "stdout",
     "output_type": "stream",
     "text": [
      "\n",
      "데이터 정보\n",
      "<class 'pandas.core.frame.DataFrame'>\n",
      "RangeIndex: 260 entries, 0 to 259\n",
      "Data columns (total 2 columns):\n",
      " #   Column  Non-Null Count  Dtype  \n",
      "---  ------  --------------  -----  \n",
      " 0   Date    260 non-null    object \n",
      " 1   Close   259 non-null    float64\n",
      "dtypes: float64(1), object(1)\n",
      "memory usage: 4.2+ KB\n"
     ]
    }
   ],
   "source": [
    "# 데이터의 기본 정보 확인 (컬럼명, 데이터 타입, 결측값 확인)\n",
    "print(\"\\n데이터 정보\")\n",
    "df.info()"
   ]
  },
  {
   "cell_type": "code",
   "execution_count": 14,
   "id": "b1d6f13c",
   "metadata": {},
   "outputs": [
    {
     "data": {
      "text/html": [
       "<div>\n",
       "<style scoped>\n",
       "    .dataframe tbody tr th:only-of-type {\n",
       "        vertical-align: middle;\n",
       "    }\n",
       "\n",
       "    .dataframe tbody tr th {\n",
       "        vertical-align: top;\n",
       "    }\n",
       "\n",
       "    .dataframe thead th {\n",
       "        text-align: right;\n",
       "    }\n",
       "</style>\n",
       "<table border=\"1\" class=\"dataframe\">\n",
       "  <thead>\n",
       "    <tr style=\"text-align: right;\">\n",
       "      <th></th>\n",
       "      <th>Date</th>\n",
       "      <th>Close</th>\n",
       "    </tr>\n",
       "  </thead>\n",
       "  <tbody>\n",
       "    <tr>\n",
       "      <th>0</th>\n",
       "      <td>2023-01-02</td>\n",
       "      <td>95.50</td>\n",
       "    </tr>\n",
       "    <tr>\n",
       "      <th>1</th>\n",
       "      <td>2023-01-03</td>\n",
       "      <td>95.36</td>\n",
       "    </tr>\n",
       "    <tr>\n",
       "      <th>2</th>\n",
       "      <td>2023-01-04</td>\n",
       "      <td>96.01</td>\n",
       "    </tr>\n",
       "    <tr>\n",
       "      <th>3</th>\n",
       "      <td>2023-01-05</td>\n",
       "      <td>97.53</td>\n",
       "    </tr>\n",
       "    <tr>\n",
       "      <th>4</th>\n",
       "      <td>2023-01-06</td>\n",
       "      <td>97.30</td>\n",
       "    </tr>\n",
       "    <tr>\n",
       "      <th>...</th>\n",
       "      <td>...</td>\n",
       "      <td>...</td>\n",
       "    </tr>\n",
       "    <tr>\n",
       "      <th>255</th>\n",
       "      <td>2023-12-25</td>\n",
       "      <td>95.20</td>\n",
       "    </tr>\n",
       "    <tr>\n",
       "      <th>256</th>\n",
       "      <td>2023-12-26</td>\n",
       "      <td>96.47</td>\n",
       "    </tr>\n",
       "    <tr>\n",
       "      <th>257</th>\n",
       "      <td>2023-12-27</td>\n",
       "      <td>95.76</td>\n",
       "    </tr>\n",
       "    <tr>\n",
       "      <th>258</th>\n",
       "      <td>2023-12-28</td>\n",
       "      <td>96.21</td>\n",
       "    </tr>\n",
       "    <tr>\n",
       "      <th>259</th>\n",
       "      <td>2023-12-29</td>\n",
       "      <td>96.98</td>\n",
       "    </tr>\n",
       "  </tbody>\n",
       "</table>\n",
       "<p>259 rows × 2 columns</p>\n",
       "</div>"
      ],
      "text/plain": [
       "          Date  Close\n",
       "0   2023-01-02  95.50\n",
       "1   2023-01-03  95.36\n",
       "2   2023-01-04  96.01\n",
       "3   2023-01-05  97.53\n",
       "4   2023-01-06  97.30\n",
       "..         ...    ...\n",
       "255 2023-12-25  95.20\n",
       "256 2023-12-26  96.47\n",
       "257 2023-12-27  95.76\n",
       "258 2023-12-28  96.21\n",
       "259 2023-12-29  96.98\n",
       "\n",
       "[259 rows x 2 columns]"
      ]
     },
     "execution_count": 14,
     "metadata": {},
     "output_type": "execute_result"
    }
   ],
   "source": [
    "# 2. 필요한 컬럼 선택 및 데이터 변환\n",
    "# 'Date' 컬럼을 날짜 형식으로 변환\n",
    "df['Date'] = pd.to_datetime(df['Date'])  # 날짜 데이터를 datetime 타입으로 변환\n",
    "\n",
    "# 'Close' 컬럼의 결측값 제거\n",
    "df = df[['Date', 'Close']].dropna()  # 종가 값이 없는 경우 제거()\n",
    "\n",
    "df"
   ]
  },
  {
   "cell_type": "code",
   "execution_count": 15,
   "id": "66d41263",
   "metadata": {},
   "outputs": [],
   "source": [
    "# 3. 월별 종가 평균 계산\n",
    "# Date 컬럼을 기준으로 연-월 형태의 새로운 컬럼 생성 (YYYY-MM 형식)\n",
    "df['YearMonth'] = df['Date'].dt.to_period('M')\n",
    "\n",
    "# 각 월별 종가의 평균 계산\n",
    "monthly_avg_close = df.groupby('YearMonth')['Close'].mean().reset_index()\n",
    "#print(monthly_avg_close)"
   ]
  },
  {
   "cell_type": "code",
   "execution_count": null,
   "id": "2478f7eb",
   "metadata": {},
   "outputs": [
    {
     "data": {
      "image/png": "[encoded data removed]",
      "text/plain": [
       "<Figure size 1200x600 with 1 Axes>"
      ]
     },
     "metadata": {},
     "output_type": "display_data"
    }
   ],
   "source": [
    "# 4. 데이터 시각화 (월별 평균 종가)\n",
    "plt.figure(figsize=(12, 6))  # 그래프 크기 설정\n",
    "plt.plot(monthly_avg_close[\"YearMonth\"].astype(str), monthly_avg_close[\"Close\"], marker='o', linestyle='-', color='r', label='월별 평균 종가')\n",
    "\n",
    "\n",
    "# 그래프 제목 및 라벨 설정\n",
    "plt.title('주식 데이터 월별 평균 종가 분석')\n",
    "plt.xlabel('연-월')\n",
    "plt.ylabel('평균 종가')\n",
    "plt.xticks(rotation=45)  # X축 라벨 회전\n",
    "plt.legend()\n",
    "plt.grid(True)  # 격자 추가\n",
    "\n",
    "# 그래프 출력\n",
    "plt.show()"
   ]
  },
  {
   "cell_type": "code",
   "execution_count": 17,
   "id": "4991e320",
   "metadata": {},
   "outputs": [],
   "source": [
    "# 5. 결과 해석\n",
    "\n",
    "# 1. 주어진 데이터를 활용하여 월별 평균 종가를 계산하였음.\n",
    "# 2. 시각화를 통해 시간에 따른 평균 종가 변화를 파악할 수 있음.\n",
    "# 3. 특정 월에 급격한 상승 또는 하락이 있다면, 외부 요인(예: 경제 이벤트, 시장 변동성 등)을 고려해야 함.\n",
    "# 4. 평균 종가 변동이 일정하다면, 해당 주식은 안정적인 패턴을 보이는 것으로 해석 가능.\n"
   ]
  }
 ],
 "metadata": {
  "kernelspec": {
   "display_name": "Python 3",
   "language": "python",
   "name": "python3"
  },
  "language_info": {
   "codemirror_mode": {
    "name": "ipython",
    "version": 3
   },
   "file_extension": ".py",
   "mimetype": "text/x-python",
   "name": "python",
   "nbconvert_exporter": "python",
   "pygments_lexer": "ipython3",
   "version": "3.11.9"
  }
 },
 "nbformat": 4,
 "nbformat_minor": 5
}
