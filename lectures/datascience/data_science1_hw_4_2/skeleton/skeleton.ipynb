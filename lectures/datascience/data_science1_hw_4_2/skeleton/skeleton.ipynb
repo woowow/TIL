{
 "cells": [
  {
   "cell_type": "code",
   "execution_count": 10,
   "id": "fa726e9c",
   "metadata": {},
   "outputs": [],
   "source": [
    "# 포함 기술스택: python, pandas\n",
    "import pandas as pd"
   ]
  },
  {
   "cell_type": "code",
   "execution_count": 2,
   "id": "194e3380",
   "metadata": {},
   "outputs": [],
   "source": [
    "# 데이터 로드\n",
    "file_path = '../data/movie_data.csv'\n",
    "movies = pd.read_csv(file_path)"
   ]
  },
  {
   "cell_type": "code",
   "execution_count": 3,
   "id": "cf7511ab",
   "metadata": {},
   "outputs": [],
   "source": [
    "# 사용자로부터 감독 이름 입력 받기\n",
    "director_name = input(\"감독의 이름을 입력하세요: \")"
   ]
  },
  {
   "cell_type": "code",
   "execution_count": 12,
   "id": "9874b771",
   "metadata": {},
   "outputs": [
    {
     "name": "stdout",
     "output_type": "stream",
     "text": [
      "               Title          Director  Year  Rating\n",
      "1               E.T.  Steven Spielberg  2019     6.0\n",
      "2      Jurassic Park  Steven Spielberg  2002     8.4\n",
      "3   Schindler's List  Steven Spielberg  1999     8.7\n",
      "5      Indiana Jones  Steven Spielberg  1978     9.5\n",
      "16              Hook  Steven Spielberg  1991     9.7\n",
      "20         Inception  Steven Spielberg  1979     7.2\n",
      "26      The Prestige  Steven Spielberg  1992     9.3\n",
      "29  Django Unchained  Steven Spielberg  2022     6.2\n",
      "31           Titanic  Steven Spielberg  2003     8.2\n",
      "32    The Terminator  Steven Spielberg  1983     9.6\n",
      "33            Aliens  Steven Spielberg  2010     9.1\n"
     ]
    }
   ],
   "source": [
    "# 특정 감독의 영화 필터링\n",
    "director_movies = movies.loc[movies[\"Director\"] == director_name]\n",
    "print(director_movies)"
   ]
  },
  {
   "cell_type": "code",
   "execution_count": 13,
   "id": "e8f82df4",
   "metadata": {},
   "outputs": [
    {
     "name": "stdout",
     "output_type": "stream",
     "text": [
      "Steven Spielberg 감독 영화의 평균 평점: 8.35\n"
     ]
    }
   ],
   "source": [
    "# 평균 평점 계산\n",
    "average_rating =  director_movies[\"Rating\"].mean()\n",
    "print(f\"{director_name} 감독 영화의 평균 평점: {average_rating:.2f}\")"
   ]
  },
  {
   "cell_type": "code",
   "execution_count": 14,
   "id": "c4f8b08a",
   "metadata": {},
   "outputs": [
    {
     "name": "stdout",
     "output_type": "stream",
     "text": [
      "가장 높은 평점을 받은 영화: Hook (9.7)\n"
     ]
    }
   ],
   "source": [
    "# 가장 높은 평점을 받은 영화 찾기\n",
    "best_movie = director_movies.loc[director_movies[\"Rating\"].idxmax()]\n",
    "print(f\"가장 높은 평점을 받은 영화: {best_movie['Title']} ({best_movie['Rating']})\")"
   ]
  }
 ],
 "metadata": {
  "kernelspec": {
   "display_name": "Python 3",
   "language": "python",
   "name": "python3"
  },
  "language_info": {
   "codemirror_mode": {
    "name": "ipython",
    "version": 3
   },
   "file_extension": ".py",
   "mimetype": "text/x-python",
   "name": "python",
   "nbconvert_exporter": "python",
   "pygments_lexer": "ipython3",
   "version": "3.11.9"
  }
 },
 "nbformat": 4,
 "nbformat_minor": 5
}
