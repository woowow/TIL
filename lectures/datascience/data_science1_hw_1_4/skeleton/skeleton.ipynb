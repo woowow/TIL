{
 "cells": [
  {
   "cell_type": "code",
   "execution_count": 2,
   "id": "19e66139",
   "metadata": {},
   "outputs": [],
   "source": [
    "# 필요한 라이브러리 불러오기\n",
    "import pandas as pd\n",
    "\n",
    "# 데이터 불러오기\n",
    "file_path_ts = \"../data/time_series_data.csv\"\n",
    "df_ts = pd.read_csv(file_path_ts)\n"
   ]
  },
  {
   "cell_type": "code",
   "execution_count": 3,
   "id": "a23d0d8a",
   "metadata": {},
   "outputs": [
    {
     "name": "stdout",
     "output_type": "stream",
     "text": [
      "전체 데이터의 기본 통계량:\n",
      "count    365.000000\n",
      "mean      50.452941\n",
      "std        9.976651\n",
      "min       17.587327\n",
      "25%       42.923305\n",
      "50%       50.642800\n",
      "75%       56.795977\n",
      "max       88.527315\n",
      "Name: value, dtype: float64\n"
     ]
    }
   ],
   "source": [
    "# 날짜 데이터를 datetime 형식으로 변환 (문자열 -> 날짜 형식으로 변경)\n",
    "df_ts[\"Date\"] = pd.to_datetime(df_ts[\"Date\"])\n",
    "\n",
    "# 데이터 정렬 (혹시라도 순서가 섞여 있을 경우 대비)\n",
    "# # - 만약 데이터가 섞여 있다면 시간 순서대로 정렬해야 합니다.\n",
    "df_ts = df_ts.sort_values(by=\"Date\")\n",
    "\n",
    "# 전체 데이터의 기본 통계량 확인 (데이터 분포 파악)\n",
    "summary_stats = df_ts[\"value\"].describe()\n",
    "\n",
    "# 기본 통계량 출력\n",
    "print(\"전체 데이터의 기본 통계량:\")\n",
    "print(summary_stats)"
   ]
  },
  {
   "cell_type": "code",
   "execution_count": 4,
   "id": "d422d737",
   "metadata": {},
   "outputs": [
    {
     "name": "stdout",
     "output_type": "stream",
     "text": [
      "\n",
      "1월과 12월의 평균 비교:\n",
      "1월 평균: 51.07\n",
      "12월 평균: 50.52\n"
     ]
    }
   ],
   "source": [
    "# 특정 기간 비교: 연초(1월)와 연말(12월)의 평균 비교\n",
    "# \"Date\" 컬럼에서 월 정보를 추출하여 새로운 컬럼 추가\n",
    "df_ts[\"Month\"] = df_ts[\"Date\"].dt.month\n",
    "\n",
    "# 1월과 12월 데이터만 선택\n",
    "# - 1월 데이터를 `jan_values` 변수에 저장\n",
    "# - 12월 데이터를 `dec_values` 변수에 저장\n",
    "jan_values = df_ts[df_ts[\"Month\"] == 1][\"value\"]\n",
    "dec_values = df_ts[df_ts[\"Month\"] == 2][\"value\"]\n",
    "\n",
    "# 1월과 12월의 평균 값 계산\n",
    "jan_mean = jan_values.mean()\n",
    "dec_mean = dec_values.mean()\n",
    "\n",
    "# 1월과 12월 평균 출력\n",
    "print(\"\\n1월과 12월의 평균 비교:\")\n",
    "print(f\"1월 평균: {jan_mean:.2f}\")\n",
    "print(f\"12월 평균: {dec_mean:.2f}\")"
   ]
  },
  {
   "cell_type": "code",
   "execution_count": 5,
   "id": "da7a5496",
   "metadata": {},
   "outputs": [
    {
     "data": {
      "image/png": "[encoded data removed]",
      "text/plain": [
       "<Figure size 640x480 with 1 Axes>"
      ]
     },
     "metadata": {},
     "output_type": "display_data"
    }
   ],
   "source": [
    "# 표본 평균의 분포를 살펴봅시다.\n",
    "# 1월 데이터에서 표본 크기 n=30을 무작위로 여러 번 뽑아,\n",
    "# 각 표본 평균을 구한 뒤 히스토그램으로 표현하세요.\n",
    "# ----------------------------------------------------\n",
    "import numpy as np\n",
    "import matplotlib.pyplot as plt\n",
    "\n",
    "sample_means = []\n",
    "for _ in range(1000):  # 1000번 반복\n",
    "    sample = np.random.choice(jan_values, size=30, replace=True)\n",
    "    sample_means.append(sample)\n",
    "\n",
    "plt.hist(sample_means, bins=30, edgecolor=\"black\")\n",
    "plt.title(\"Distribution of Sample Means (n=30)\")\n",
    "plt.xlabel(\"Sample Mean\")\n",
    "plt.ylabel(\"Frequency\")\n",
    "plt.show()"
   ]
  },
  {
   "cell_type": "code",
   "execution_count": 6,
   "id": "d77ce16d",
   "metadata": {},
   "outputs": [
    {
     "name": "stdout",
     "output_type": "stream",
     "text": [
      "\n",
      "선택 편향 시뮬레이션:\n",
      "12월 전체 평균: 50.52\n",
      "12월 상위 20% 평균: 61.99\n",
      "→ 상위 데이터만 선택하면 평균이 왜곡되어 모집단을 대표하지 못하는 선택 편향 발생\n"
     ]
    }
   ],
   "source": [
    "# 12월 데이터에서 상위 20% 값만 뽑아 평균을 구하고,\n",
    "# 전체 평균과 비교해 보세요.\n",
    "# 어떤 편향이 발생하는지도 함께 설명해봅시다.\n",
    "# ----------------------------------------------------\n",
    "threshold = np.percentile(dec_values, 80)  # 상위 20% 기준\n",
    "biased_sample = dec_values[dec_values >= threshold]\n",
    "\n",
    "biased_mean = biased_sample.mean()\n",
    "true_mean = dec_values.mean()\n",
    "\n",
    "print(\"\\n선택 편향 시뮬레이션:\")\n",
    "print(f\"12월 전체 평균: {true_mean:.2f}\")\n",
    "print(f\"12월 상위 20% 평균: {biased_mean:.2f}\")\n",
    "print(\"→ 상위 데이터만 선택하면 평균이 왜곡되어 모집단을 대표하지 못하는 선택 편향 발생\")"
   ]
  }
 ],
 "metadata": {
  "kernelspec": {
   "display_name": "Python 3",
   "language": "python",
   "name": "python3"
  },
  "language_info": {
   "codemirror_mode": {
    "name": "ipython",
    "version": 3
   },
   "file_extension": ".py",
   "mimetype": "text/x-python",
   "name": "python",
   "nbconvert_exporter": "python",
   "pygments_lexer": "ipython3",
   "version": "3.11.9"
  }
 },
 "nbformat": 4,
 "nbformat_minor": 5
}
